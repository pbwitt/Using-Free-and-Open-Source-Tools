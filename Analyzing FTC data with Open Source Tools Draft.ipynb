{
 "cells": [
  {
   "cell_type": "markdown",
   "metadata": {},
   "source": [
    "# Using free and open source tools to analyze data from the Federal Trade Commission (FTC)\n",
    "\n",
    "This notebook shows how to use free open source tools -- Python and Tableau Public -- to analyze Do Not Call program data made available to the public by the Federal Trade Commission.  This notebook is not affiliated with the FTC. \n",
    "\n",
    "The data used in the analysis below was taken from https://www.ftc.gov/site-information/open-government/data-sets/do-not-call-data.  It includes Do Not Call and robocall reports to the Federal Trade Commission. The data contains information reported by consumers, including the telephone number originating the unwanted call, the date the complaint was created, the time the call was made, the consumer’s city and state locations reported, the subject of the call, the consumers area code and whether the call was a robocall. \n"
   ]
  },
  {
   "attachments": {},
   "cell_type": "markdown",
   "metadata": {},
   "source": [
    "We will use python to automatically pull data from the web, clean it, and create a data set that can be used to build interactive dashboards with Tableau.  \n",
    "\n",
    "The dashboards are made available on Tableau Public – a free service that allows users to publish dashboards to the \n",
    "\n",
    "The dashboard below is located at: https://public.tableau.com/profile/paul.witt2290#!/\n",
    " "
   ]
  },
  {
   "cell_type": "code",
   "execution_count": null,
   "metadata": {},
   "outputs": [],
   "source": []
  },
  {
   "cell_type": "markdown",
   "metadata": {},
   "source": [
    "## Secton I: Data Wrangling with Python"
   ]
  },
  {
   "cell_type": "markdown",
   "metadata": {},
   "source": [
    "We start by using the requests python library to access the HTML code from FTC.gov.  http://docs.python-requests.org/en/master/\n",
    "\n",
    "The requests library has a straight forward API that allows us to easliy request data from FTC.gov. \n",
    "\n",
    "\n",
    "Below we create a response object to retrive the web page that contains the data we need. The response object contains a server’s response to an HTTP request. The .get method below initiates an HTTP Get request. \n",
    "\n",
    "For more on HTTP requests see https://www.w3schools.com/tags/ref_httpmethods.asp\n"
   ]
  },
  {
   "cell_type": "code",
   "execution_count": 2,
   "metadata": {},
   "outputs": [],
   "source": [
    "import requests  \n",
    "\n",
    "r = requests.get('https://www.ftc.gov/site-information/open-government/data-sets/do-not-call-data') "
   ]
  },
  {
   "cell_type": "markdown",
   "metadata": {},
   "source": [
    "We now have a response object that gives us access to the elements of Document Oject Model and allows us to inspect the webpage that contains our data.  "
   ]
  },
  {
   "cell_type": "code",
   "execution_count": 25,
   "metadata": {
    "scrolled": true
   },
   "outputs": [
    {
     "name": "stdout",
     "output_type": "stream",
     "text": [
      "<!DOCTYPE html>\n",
      "<!--[if IEMobile 7]><html class=\"iem7\"  lang=\"en\" dir=\"ltr\"><![endif]-->\n",
      "<!--[if lte IE 6]><html class=\"lt-ie9 lt-ie8 lt-ie7\"  lang=\"en\" dir=\"ltr\"><![endif]-->\n",
      "<!--[if (IE 7)&(!IEMobile)]><html class=\"lt-ie9 lt-ie8\"  lang=\"en\" dir=\"ltr\"><![endif]-->\n",
      "<!--[if (IE 7)]><html class=\"lt-ie8\"  lang=\"en\" dir=\"ltr\"><![endif]-->\n",
      "<!--[if IE 8]><html class=\"lt-ie9\"  lang=\"en\" dir=\"ltr\"><![endif]-->\n",
      "<!--[if (gte IE 9)|(gt IEMobile 7)]><!--><html  lang=\"en\" dir=\"ltr\" prefix=\"og: http://ogp.me/ns# article: http://ogp.me/ns/article# book: http://ogp.me/ns/book# profile: http://ogp.me/ns/profile# video: http://ogp.me/ns/video# product: http://ogp.me/ns/product# content: http://purl.org/rss/1.0/modules/content/ dc: http://purl.org/dc/terms/ foaf: http://xmlns.com/foaf/0.1/ rdfs: http://www.w3.org/2000/01/rdf-schema# sioc: http://rdfs.org/sioc/ns# sioct: http://rdfs.org/sioc/types# skos: http://www.w3.org/2004/02/skos/core# xsd: http://www.w3.org/2001/XMLSchema#\"><!--<![endif]-->\n",
      "\n",
      "<head p\n"
     ]
    }
   ],
   "source": [
    "print(r.text[:1000]) "
   ]
  },
  {
   "cell_type": "markdown",
   "metadata": {},
   "source": [
    "We only need to access csv files, so most of what we see here is not useful. We could use string operations to search and find what we need but that would be combersome and time consuming.  Instead, we will use the Beautiful Soup python library. The Beautiful Soup API will help us quickly parse the strings on this page to get at what we need. \n",
    "\n",
    "Beautiful Soup transforms a complex HTML document into a complex tree of Python objects. For our purposes, the ability to quickly seach and access the tags, attributes and elements in the webpage will be necessary to retrieve our data. \n",
    "\n",
    "For more on HTML objects see https://www.456bereastreet.com/archive/200508/html_tags_vs_elements_vs_attributes/\n",
    "\n",
    "We start by importing Beautiful Soup Library. We will pass our response object into a BS HTML parser. \n"
   ]
  },
  {
   "cell_type": "code",
   "execution_count": 4,
   "metadata": {},
   "outputs": [],
   "source": [
    "from bs4 import BeautifulSoup  \n",
    "soup = BeautifulSoup(r.text, 'html.parser') "
   ]
  },
  {
   "cell_type": "markdown",
   "metadata": {},
   "source": [
    "We now have a parsed oject that we can apply simple and useful BS methods to.  "
   ]
  },
  {
   "cell_type": "code",
   "execution_count": 6,
   "metadata": {},
   "outputs": [
    {
     "data": {
      "text/plain": [
       "[u'https://www.ftc.gov/system/files/attachments/do-not-call-dnc-reported-calls-data/dnc_complaint_numbers_2018-10-26.csv',\n",
       " u'https://www.ftc.gov/system/files/attachments/do-not-call-dnc-reported-calls-data/dnc_complaint_numbers_2018-10-19.csv',\n",
       " u'https://www.ftc.gov/system/files/attachments/do-not-call-dnc-reported-calls-data/dnc_complaint_numbers_2018-10-12.csv',\n",
       " u'https://www.ftc.gov/system/files/attachments/do-not-call-dnc-reported-calls-data/dnc_complaint_numbers_2018-10-25.csv',\n",
       " u'https://www.ftc.gov/system/files/attachments/do-not-call-dnc-reported-calls-data/dnc_complaint_numbers_2018-10-18.csv',\n",
       " u'https://www.ftc.gov/system/files/attachments/do-not-call-dnc-reported-calls-data/dnc_complaint_numbers_2018-10-11.csv',\n",
       " u'https://www.ftc.gov/system/files/attachments/do-not-call-dnc-reported-calls-data/dnc_complaint_numbers_2018-10-24.csv',\n",
       " u'https://www.ftc.gov/system/files/attachments/do-not-call-dnc-reported-calls-data/dnc_complaint_numbers_2018-10-17.csv',\n",
       " u'https://www.ftc.gov/system/files/attachments/do-not-call-dnc-reported-calls-data/dnc_complaint_numbers_2018-10-10.csv',\n",
       " u'https://www.ftc.gov/system/files/attachments/do-not-call-dnc-reported-calls-data/dnc_complaint_numbers_2018-10-23.csv',\n",
       " u'https://www.ftc.gov/system/files/attachments/do-not-call-dnc-reported-calls-data/dnc_complaint_numbers_2018-10-16.csv',\n",
       " u'https://www.ftc.gov/system/files/attachments/do-not-call-dnc-reported-calls-data/dnc_complaint_numbers_2018-10-09.csv',\n",
       " u'https://www.ftc.gov/system/files/attachments/do-not-call-dnc-reported-calls-data/dnc_complaint_numbers_2018-10-22.csv',\n",
       " u'https://www.ftc.gov/system/files/attachments/do-not-call-dnc-reported-calls-data/dnc_complaint_numbers_2018-10-15.csv',\n",
       " u'https://www.ftc.gov/system/files/attachments/do-not-call-dnc-reported-calls-data/dnc_complaint_numbers_2018-10-08.csv',\n",
       " u'https://www.ftc.gov/system/files/attachments/do-not-call-dnc-reported-calls-data/dnc_complaint_numbers_2018-10-05.csv',\n",
       " u'https://www.ftc.gov/system/files/attachments/do-not-call-dnc-reported-calls-data/dnc_complaint_numbers_2018-09-28.csv',\n",
       " u'https://www.ftc.gov/system/files/attachments/do-not-call-dnc-reported-calls-data/dnc_complaint_numbers_2018-09-21.csv',\n",
       " u'https://www.ftc.gov/system/files/attachments/do-not-call-dnc-reported-calls-data/dnc_complaint_numbers_2018-10-04.csv',\n",
       " u'https://www.ftc.gov/system/files/attachments/do-not-call-dnc-reported-calls-data/dnc_complaint_numbers_2018-09-27.csv',\n",
       " u'https://www.ftc.gov/system/files/attachments/do-not-call-dnc-reported-calls-data/dnc_complaint_numbers_2018-09-20.csv',\n",
       " u'https://www.ftc.gov/system/files/attachments/do-not-call-dnc-reported-calls-data/dnc_complaint_numbers_2018-10-03.csv',\n",
       " u'https://www.ftc.gov/system/files/attachments/do-not-call-dnc-reported-calls-data/dnc_complaint_numbers_2018-09-26.csv',\n",
       " u'https://www.ftc.gov/system/files/attachments/do-not-call-dnc-reported-calls-data/dnc_complaint_numbers_2018-09-19.csv',\n",
       " u'https://www.ftc.gov/system/files/attachments/do-not-call-dnc-reported-calls-data/dnc_complaint_numbers_2018-10-02.csv',\n",
       " u'https://www.ftc.gov/system/files/attachments/do-not-call-dnc-reported-calls-data/dnc_complaint_numbers_2018-09-25.csv',\n",
       " u'https://www.ftc.gov/system/files/attachments/do-not-call-dnc-reported-calls-data/dnc_complaint_numbers_2018-09-18.csv',\n",
       " u'https://www.ftc.gov/system/files/attachments/do-not-call-dnc-reported-calls-data/dnc_complaint_numbers_2018-10-01.csv',\n",
       " u'https://www.ftc.gov/system/files/attachments/do-not-call-dnc-reported-calls-data/dnc_complaint_numbers_2018-09-24.csv',\n",
       " u'https://www.ftc.gov/system/files/attachments/do-not-call-dnc-reported-calls-data/dnc_complaint_numbers_2018-09-17.csv']"
      ]
     },
     "execution_count": 6,
     "metadata": {},
     "output_type": "execute_result"
    }
   ],
   "source": [
    "import pandas as pd\n",
    "\n",
    "def get_links():\n",
    "    \n",
    "    links = soup.find_all('a',href=True)#explain this\n",
    "    links = [link['href'] for link in links\n",
    "           if link[\"href\"].startswith(\"https://www.ftc.gov/system/files/attachments/do-not-call-dnc-reported-calls-data/dnc_complaint_numbers_\")]\n",
    "\n",
    "    return links\n",
    "\n",
    "get_links()\n"
   ]
  },
  {
   "cell_type": "markdown",
   "metadata": {},
   "source": [
    "https://console.aws.amazon.com/rds/home?region=us-east-1#GettingStarted:"
   ]
  },
  {
   "cell_type": "code",
   "execution_count": 8,
   "metadata": {},
   "outputs": [
    {
     "name": "stderr",
     "output_type": "stream",
     "text": [
      "Skipping line 11650: expected 8 fields, saw 15\n",
      "\n"
     ]
    }
   ],
   "source": [
    "dfs = [pd.read_csv(link,error_bad_lines=False) for link in get_links()]"
   ]
  },
  {
   "cell_type": "code",
   "execution_count": 9,
   "metadata": {},
   "outputs": [],
   "source": [
    "df = pd.concat(dfs, ignore_index=True)"
   ]
  },
  {
   "cell_type": "code",
   "execution_count": 10,
   "metadata": {},
   "outputs": [
    {
     "data": {
      "text/plain": [
       "Company_Phone_Number            695786\n",
       "Created_Date                    717774\n",
       "Violation_Date                  717773\n",
       "Consumer_City                   452521\n",
       "Consumer_State                  717183\n",
       "Consumer_Area_Code              717763\n",
       "Subject                         717773\n",
       "Recorded_Message_Or_Robocall    709752\n",
       "dtype: int64"
      ]
     },
     "execution_count": 10,
     "metadata": {},
     "output_type": "execute_result"
    }
   ],
   "source": [
    "df.count()"
   ]
  },
  {
   "cell_type": "code",
   "execution_count": 11,
   "metadata": {},
   "outputs": [],
   "source": [
    "df=df[df.Created_Date!='N']"
   ]
  },
  {
   "cell_type": "code",
   "execution_count": 12,
   "metadata": {},
   "outputs": [],
   "source": [
    "df.Created_Date=pd.to_datetime(df.Created_Date)"
   ]
  },
  {
   "cell_type": "code",
   "execution_count": 13,
   "metadata": {},
   "outputs": [
    {
     "data": {
      "text/plain": [
       "array([25, 18, 11, 24, 17, 10, 23, 16,  9, 22, 15,  8, 19, 20, 21, 12, 13,\n",
       "        5,  6,  7,  4, 27,  3, 26,  2,  1, 28, 29, 30, 14])"
      ]
     },
     "execution_count": 13,
     "metadata": {},
     "output_type": "execute_result"
    }
   ],
   "source": [
    "df.Created_Date.dt.day.unique()"
   ]
  },
  {
   "cell_type": "code",
   "execution_count": 14,
   "metadata": {},
   "outputs": [
    {
     "data": {
      "text/plain": [
       "Timestamp('2018-10-25 23:59:45')"
      ]
     },
     "execution_count": 14,
     "metadata": {},
     "output_type": "execute_result"
    }
   ],
   "source": [
    "df.Created_Date.max()"
   ]
  },
  {
   "cell_type": "code",
   "execution_count": 15,
   "metadata": {},
   "outputs": [
    {
     "data": {
      "text/plain": [
       "Timestamp('2018-09-14 00:00:07')"
      ]
     },
     "execution_count": 15,
     "metadata": {},
     "output_type": "execute_result"
    }
   ],
   "source": [
    "df.Created_Date.min()"
   ]
  },
  {
   "cell_type": "code",
   "execution_count": 16,
   "metadata": {},
   "outputs": [],
   "source": [
    "df.Company_Phone_Number=df.Company_Phone_Number.astype(str)"
   ]
  },
  {
   "cell_type": "markdown",
   "metadata": {},
   "source": [
    "Nice Clean data set ready for Tableau. "
   ]
  },
  {
   "cell_type": "code",
   "execution_count": 39,
   "metadata": {},
   "outputs": [],
   "source": [
    "df.to_csv('../dnc_pull.csv')"
   ]
  },
  {
   "cell_type": "markdown",
   "metadata": {},
   "source": []
  },
  {
   "cell_type": "code",
   "execution_count": null,
   "metadata": {},
   "outputs": [],
   "source": []
  }
 ],
 "metadata": {
  "kernelspec": {
   "display_name": "Python [default]",
   "language": "python",
   "name": "python2"
  },
  "language_info": {
   "codemirror_mode": {
    "name": "ipython",
    "version": 2
   },
   "file_extension": ".py",
   "mimetype": "text/x-python",
   "name": "python",
   "nbconvert_exporter": "python",
   "pygments_lexer": "ipython2",
   "version": "2.7.15"
  }
 },
 "nbformat": 4,
 "nbformat_minor": 2
}
