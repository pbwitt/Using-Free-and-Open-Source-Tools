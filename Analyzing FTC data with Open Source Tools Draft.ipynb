{
 "cells": [
  {
   "cell_type": "markdown",
   "metadata": {},
   "source": [
    "# Using free and open source tools to analyze data from the Federal Trade Commission (FTC)\n",
    "\n",
    "This notebook shows how to use free open source tools -- Python and Tableau Public -- to analyze Do Not Call program data made available to the public by the Federal Trade Commission.   \n",
    "\n",
    "The data used in the analysis below was taken from https://www.ftc.gov/site-information/open-government/data-sets/do-not-call-data.  It includes Do Not Call and robocall reports to the Federal Trade Commission. The data contains information reported by consumers, including the telephone number originating the unwanted call, the date the complaint was created, the time the call was made, the consumer’s city and state locations reported, the subject of the call, the consumers area code and whether the call was a robocall. \n"
   ]
  },
  {
   "attachments": {},
   "cell_type": "markdown",
   "metadata": {},
   "source": [
    "We will use python to automatically pull data from the web, clean it, and create a data set that can be used to build interactive dashboards with Tableau.  \n",
    "\n",
    "The dashboards are made available on Tableau Public – a free service that allows users to publish dashboards to the \n",
    "web.\n",
    "\n",
    "The dashboards are located at: https://public.tableau.com/profile/paul.witt2290#!/  or through NBViewer with this notebook.\n",
    " "
   ]
  },
  {
   "cell_type": "raw",
   "metadata": {
    "scrolled": false
   },
   "source": [
    "<div class='tableauPlaceholder' id='viz1540684925001' style='position: center'><noscript><a href='#'><img alt=' ' src='https:&#47;&#47;public.tableau.com&#47;static&#47;images&#47;Do&#47;DoNotCallPublicDataSets&#47;ofCallsPerConsumerCity&#47;1_rss.png' style='border: none' /></a></noscript><object class='tableauViz'  style='display:none;'><param name='host_url' value='https%3A%2F%2Fpublic.tableau.com%2F' /> <param name='embed_code_version' value='3' /> <param name='site_root' value='' /><param name='name' value='DoNotCallPublicDataSets&#47;ofCallsPerConsumerCity' /><param name='tabs' value='no' /><param name='toolbar' value='yes' /><param name='static_image' value='https:&#47;&#47;public.tableau.com&#47;static&#47;images&#47;Do&#47;DoNotCallPublicDataSets&#47;ofCallsPerConsumerCity&#47;1.png' /> <param name='animate_transition' value='yes' /><param name='display_static_image' value='yes' /><param name='display_spinner' value='yes' /><param name='display_overlay' value='yes' /><param name='display_count' value='yes' /></object></div>                <script type='text/javascript'>                    var divElement = document.getElementById('viz1540684925001');                    var vizElement = divElement.getElementsByTagName('object')[0];                    vizElement.style.width='1000px';vizElement.style.height='827px';                    var scriptElement = document.createElement('script');                    scriptElement.src = 'https://public.tableau.com/javascripts/api/viz_v1.js';                    vizElement.parentNode.insertBefore(scriptElement, vizElement);                </script>"
   ]
  },
  {
   "cell_type": "markdown",
   "metadata": {},
   "source": [
    "## Secton I: Data Wrangling with Python\n",
    "\n",
    "### Requests and Beautiful Soup"
   ]
  },
  {
   "cell_type": "markdown",
   "metadata": {},
   "source": [
    "We start by using the requests python library to access the HTML code from FTC.gov.  http://docs.python-requests.org/en/master/\n",
    "\n",
    "The requests library has a straight forward API that allows us to easliy request data from FTC.gov. \n",
    "\n",
    "\n",
    "Below we create a response object to retrive the web page that contains the data we need. The response object contains a server’s response to an HTTP request. The .get method below initiates an HTTP Get request. \n",
    "\n",
    "For more on HTTP requests see https://www.w3schools.com/tags/ref_httpmethods.asp\n"
   ]
  },
  {
   "cell_type": "code",
   "execution_count": 2,
   "metadata": {},
   "outputs": [],
   "source": [
    "import requests  \n",
    "\n",
    "r = requests.get('https://www.ftc.gov/site-information/open-government/data-sets/do-not-call-data') "
   ]
  },
  {
   "cell_type": "markdown",
   "metadata": {},
   "source": [
    "We now have a response object that gives us access to the elements of Document Oject Model and allows us to inspect the webpage that contains our data.  \n",
    "\n",
    "Here is a small sample of the output. "
   ]
  },
  {
   "cell_type": "code",
   "execution_count": 81,
   "metadata": {
    "scrolled": true
   },
   "outputs": [
    {
     "name": "stdout",
     "output_type": "stream",
     "text": [
      "=\"header-wrapper\">\n",
      "\n",
      "  <header id=\"header\" role=\"banner\">\n",
      "\n",
      "    \n",
      "              \n",
      "          <div class=\"logo-bg\">\n",
      "            <a href=\"/\" title=\"Home\" rel=\"home\" id=\"logo\">\n",
      "                                             <span data-picture data-alt=\"Federal Trade Commission: Protecting America's Consumers\">\n",
      "                <span data-src=\"/sites/all/themes/ftc/images/FTCLogo_465-new.png\"></span>\n",
      "                <span data-media=\"(max-width: 766px)\" data-src=\"/sites/all/themes/ftc/images/ftc_logo_430.pn\n"
     ]
    }
   ],
   "source": [
    "print(r.text[28500:29000]) "
   ]
  },
  {
   "cell_type": "markdown",
   "metadata": {},
   "source": [
    "\n",
    "\n",
    "We only need to access csv files, so most of what we see in the small sample above is not useful. We could use string operations to search and find what we need but that would be combersome and time consuming.  Instead, we will use the Beautiful Soup python library. The Beautiful Soup API will help us quickly parse the strings on this page to get at what we need. \n",
    "\n",
    "Beautiful Soup transforms a complex HTML document into a complex tree of Python objects. For our purposes, the ability to quickly seach and access the tags, attributes and elements in the webpage will be necessary to retrieve our data. \n",
    "\n",
    "For more on HTML objects see: https://www.456bereastreet.com/archive/200508/html_tags_vs_elements_vs_attributes/\n",
    "\n",
    "We start by importing Beautiful Soup Library. We will pass our response object into a BS HTML parser. \n"
   ]
  },
  {
   "cell_type": "code",
   "execution_count": 4,
   "metadata": {},
   "outputs": [],
   "source": [
    "from bs4 import BeautifulSoup  \n",
    "soup = BeautifulSoup(r.text, 'html.parser') "
   ]
  },
  {
   "cell_type": "markdown",
   "metadata": {},
   "source": [
    "We now have a parsed oject that we can apply simple Beautiful Soup methods to.\n",
    "\n",
    "Our goal is to find all of the csv files on the webpage, which are hyperlinks.  As such, we want to isolate all the '< a >' tags and 'href' attributes.   \n",
    "\n",
    "The '< a >' tag defines a hyper link in a webpage. For more on < a > tags see: https://www.w3schools.com/tags/tag_a.asp\n",
    "\n",
    "The href attribute specifies the link's destination: https://www.w3schools.com/tags/att_a_href.asp\n",
    "\n",
    "We can use the Beautiful Soup find_all method to grab all the links in the webpage.   From there, we will use a python list comprehension to find and isolate all the csv files we need in the web page. Because the naming convention is clean, we further isolate the specific csv files we are looking for by only returning the links we need.   \n",
    "\n"
   ]
  },
  {
   "cell_type": "code",
   "execution_count": 54,
   "metadata": {},
   "outputs": [
    {
     "data": {
      "text/plain": [
       "[u'https://www.ftc.gov/system/files/attachments/do-not-call-dnc-reported-calls-data/dnc_complaint_numbers_2018-10-26.csv',\n",
       " u'https://www.ftc.gov/system/files/attachments/do-not-call-dnc-reported-calls-data/dnc_complaint_numbers_2018-10-19.csv',\n",
       " u'https://www.ftc.gov/system/files/attachments/do-not-call-dnc-reported-calls-data/dnc_complaint_numbers_2018-10-12.csv',\n",
       " u'https://www.ftc.gov/system/files/attachments/do-not-call-dnc-reported-calls-data/dnc_complaint_numbers_2018-10-25.csv',\n",
       " u'https://www.ftc.gov/system/files/attachments/do-not-call-dnc-reported-calls-data/dnc_complaint_numbers_2018-10-18.csv',\n",
       " u'https://www.ftc.gov/system/files/attachments/do-not-call-dnc-reported-calls-data/dnc_complaint_numbers_2018-10-11.csv',\n",
       " u'https://www.ftc.gov/system/files/attachments/do-not-call-dnc-reported-calls-data/dnc_complaint_numbers_2018-10-24.csv',\n",
       " u'https://www.ftc.gov/system/files/attachments/do-not-call-dnc-reported-calls-data/dnc_complaint_numbers_2018-10-17.csv',\n",
       " u'https://www.ftc.gov/system/files/attachments/do-not-call-dnc-reported-calls-data/dnc_complaint_numbers_2018-10-10.csv',\n",
       " u'https://www.ftc.gov/system/files/attachments/do-not-call-dnc-reported-calls-data/dnc_complaint_numbers_2018-10-23.csv',\n",
       " u'https://www.ftc.gov/system/files/attachments/do-not-call-dnc-reported-calls-data/dnc_complaint_numbers_2018-10-16.csv',\n",
       " u'https://www.ftc.gov/system/files/attachments/do-not-call-dnc-reported-calls-data/dnc_complaint_numbers_2018-10-09.csv',\n",
       " u'https://www.ftc.gov/system/files/attachments/do-not-call-dnc-reported-calls-data/dnc_complaint_numbers_2018-10-22.csv',\n",
       " u'https://www.ftc.gov/system/files/attachments/do-not-call-dnc-reported-calls-data/dnc_complaint_numbers_2018-10-15.csv',\n",
       " u'https://www.ftc.gov/system/files/attachments/do-not-call-dnc-reported-calls-data/dnc_complaint_numbers_2018-10-08.csv',\n",
       " u'https://www.ftc.gov/system/files/attachments/do-not-call-dnc-reported-calls-data/dnc_complaint_numbers_2018-10-05.csv',\n",
       " u'https://www.ftc.gov/system/files/attachments/do-not-call-dnc-reported-calls-data/dnc_complaint_numbers_2018-09-28.csv',\n",
       " u'https://www.ftc.gov/system/files/attachments/do-not-call-dnc-reported-calls-data/dnc_complaint_numbers_2018-09-21.csv',\n",
       " u'https://www.ftc.gov/system/files/attachments/do-not-call-dnc-reported-calls-data/dnc_complaint_numbers_2018-10-04.csv',\n",
       " u'https://www.ftc.gov/system/files/attachments/do-not-call-dnc-reported-calls-data/dnc_complaint_numbers_2018-09-27.csv',\n",
       " u'https://www.ftc.gov/system/files/attachments/do-not-call-dnc-reported-calls-data/dnc_complaint_numbers_2018-09-20.csv',\n",
       " u'https://www.ftc.gov/system/files/attachments/do-not-call-dnc-reported-calls-data/dnc_complaint_numbers_2018-10-03.csv',\n",
       " u'https://www.ftc.gov/system/files/attachments/do-not-call-dnc-reported-calls-data/dnc_complaint_numbers_2018-09-26.csv',\n",
       " u'https://www.ftc.gov/system/files/attachments/do-not-call-dnc-reported-calls-data/dnc_complaint_numbers_2018-09-19.csv',\n",
       " u'https://www.ftc.gov/system/files/attachments/do-not-call-dnc-reported-calls-data/dnc_complaint_numbers_2018-10-02.csv',\n",
       " u'https://www.ftc.gov/system/files/attachments/do-not-call-dnc-reported-calls-data/dnc_complaint_numbers_2018-09-25.csv',\n",
       " u'https://www.ftc.gov/system/files/attachments/do-not-call-dnc-reported-calls-data/dnc_complaint_numbers_2018-09-18.csv',\n",
       " u'https://www.ftc.gov/system/files/attachments/do-not-call-dnc-reported-calls-data/dnc_complaint_numbers_2018-10-01.csv',\n",
       " u'https://www.ftc.gov/system/files/attachments/do-not-call-dnc-reported-calls-data/dnc_complaint_numbers_2018-09-24.csv',\n",
       " u'https://www.ftc.gov/system/files/attachments/do-not-call-dnc-reported-calls-data/dnc_complaint_numbers_2018-09-17.csv']"
      ]
     },
     "execution_count": 54,
     "metadata": {},
     "output_type": "execute_result"
    }
   ],
   "source": [
    "def get_links():\n",
    "    \n",
    "    links = soup.find_all('a',href=True)\n",
    "    \n",
    "    links = [link['href'] for link in links\n",
    "        if link[\"href\"].startswith\\\n",
    "        (\"https://www.ftc.gov/system/files/attachments/do-not-call-dnc-reported-calls-data/dnc_complaint_numbers_\")]\n",
    "\n",
    "    return links\n",
    "\n",
    "get_links()\n"
   ]
  },
  {
   "cell_type": "markdown",
   "metadata": {},
   "source": [
    "## Data Exploration with Pandas"
   ]
  },
  {
   "cell_type": "markdown",
   "metadata": {},
   "source": [
    "Now that we have a list of links to our csv files, we will use the pandas library to put it all together. https://pandas.pydata.org/pandas-docs/stable/\n",
    "\n",
    "We start by using another list comprehension to read each csv link. The end result is a new list that contains one dataframe for each hyperlink. We then append all the dataframes together into one final dataframe that we can use for analysis. "
   ]
  },
  {
   "cell_type": "code",
   "execution_count": 56,
   "metadata": {},
   "outputs": [
    {
     "name": "stderr",
     "output_type": "stream",
     "text": [
      "Skipping line 11650: expected 8 fields, saw 15\n",
      "\n"
     ]
    }
   ],
   "source": [
    "import pandas as pd\n",
    "\n",
    "def read_links(data):\n",
    "    dfs = [pd.read_csv(link,error_bad_lines=False) for link in data]\n",
    "    \n",
    "    df = pd.concat(dfs, ignore_index=True)\n",
    "    \n",
    "    return df\n",
    "\n",
    "dnc_data = read_links(get_links())\n",
    "    \n",
    "    "
   ]
  },
  {
   "cell_type": "code",
   "execution_count": 82,
   "metadata": {},
   "outputs": [
    {
     "data": {
      "text/html": [
       "<div>\n",
       "<style scoped>\n",
       "    .dataframe tbody tr th:only-of-type {\n",
       "        vertical-align: middle;\n",
       "    }\n",
       "\n",
       "    .dataframe tbody tr th {\n",
       "        vertical-align: top;\n",
       "    }\n",
       "\n",
       "    .dataframe thead th {\n",
       "        text-align: right;\n",
       "    }\n",
       "</style>\n",
       "<table border=\"1\" class=\"dataframe\">\n",
       "  <thead>\n",
       "    <tr style=\"text-align: right;\">\n",
       "      <th></th>\n",
       "      <th>Company_Phone_Number</th>\n",
       "      <th>Created_Date</th>\n",
       "      <th>Violation_Date</th>\n",
       "      <th>Consumer_City</th>\n",
       "      <th>Consumer_State</th>\n",
       "      <th>Consumer_Area_Code</th>\n",
       "      <th>Subject</th>\n",
       "      <th>Recorded_Message_Or_Robocall</th>\n",
       "    </tr>\n",
       "  </thead>\n",
       "  <tbody>\n",
       "    <tr>\n",
       "      <th>0</th>\n",
       "      <td>6502378831.0</td>\n",
       "      <td>2018-10-25 00:00:34</td>\n",
       "      <td>2018-10-24 17:50:00</td>\n",
       "      <td>Westwood</td>\n",
       "      <td>New Jersey</td>\n",
       "      <td>201.0</td>\n",
       "      <td>Medical  &amp; prescriptions</td>\n",
       "      <td>N</td>\n",
       "    </tr>\n",
       "    <tr>\n",
       "      <th>1</th>\n",
       "      <td>6502041732.0</td>\n",
       "      <td>2018-10-25 00:00:36</td>\n",
       "      <td>2018-10-24 20:50:00</td>\n",
       "      <td>Belmont</td>\n",
       "      <td>California</td>\n",
       "      <td>650.0</td>\n",
       "      <td>No Subject Provided</td>\n",
       "      <td>Y</td>\n",
       "    </tr>\n",
       "    <tr>\n",
       "      <th>2</th>\n",
       "      <td>5054920147.0</td>\n",
       "      <td>2018-10-25 00:00:46</td>\n",
       "      <td>2018-10-22 19:54:00</td>\n",
       "      <td>Albuquerque</td>\n",
       "      <td>New Mexico</td>\n",
       "      <td>505.0</td>\n",
       "      <td>Dropped call or no message</td>\n",
       "      <td>N</td>\n",
       "    </tr>\n",
       "    <tr>\n",
       "      <th>3</th>\n",
       "      <td>7606570156.0</td>\n",
       "      <td>2018-10-25 00:01:25</td>\n",
       "      <td>2018-10-24 17:37:00</td>\n",
       "      <td>NaN</td>\n",
       "      <td>New Mexico</td>\n",
       "      <td>505.0</td>\n",
       "      <td>Reducing your debt (credit cards, mortgage, st...</td>\n",
       "      <td>N</td>\n",
       "    </tr>\n",
       "    <tr>\n",
       "      <th>4</th>\n",
       "      <td>2018775196.0</td>\n",
       "      <td>2018-10-25 00:02:06</td>\n",
       "      <td>2018-10-24 18:11:00</td>\n",
       "      <td>Westwood</td>\n",
       "      <td>New Jersey</td>\n",
       "      <td>201.0</td>\n",
       "      <td>Medical  &amp; prescriptions</td>\n",
       "      <td>N</td>\n",
       "    </tr>\n",
       "  </tbody>\n",
       "</table>\n",
       "</div>"
      ],
      "text/plain": [
       "  Company_Phone_Number        Created_Date       Violation_Date Consumer_City  \\\n",
       "0         6502378831.0 2018-10-25 00:00:34  2018-10-24 17:50:00      Westwood   \n",
       "1         6502041732.0 2018-10-25 00:00:36  2018-10-24 20:50:00       Belmont   \n",
       "2         5054920147.0 2018-10-25 00:00:46  2018-10-22 19:54:00   Albuquerque   \n",
       "3         7606570156.0 2018-10-25 00:01:25  2018-10-24 17:37:00           NaN   \n",
       "4         2018775196.0 2018-10-25 00:02:06  2018-10-24 18:11:00      Westwood   \n",
       "\n",
       "  Consumer_State  Consumer_Area_Code  \\\n",
       "0     New Jersey               201.0   \n",
       "1     California               650.0   \n",
       "2     New Mexico               505.0   \n",
       "3     New Mexico               505.0   \n",
       "4     New Jersey               201.0   \n",
       "\n",
       "                                             Subject  \\\n",
       "0                           Medical  & prescriptions   \n",
       "1                                No Subject Provided   \n",
       "2                         Dropped call or no message   \n",
       "3  Reducing your debt (credit cards, mortgage, st...   \n",
       "4                           Medical  & prescriptions   \n",
       "\n",
       "  Recorded_Message_Or_Robocall  \n",
       "0                            N  \n",
       "1                            Y  \n",
       "2                            N  \n",
       "3                            N  \n",
       "4                            N  "
      ]
     },
     "execution_count": 82,
     "metadata": {},
     "output_type": "execute_result"
    }
   ],
   "source": [
    "dnc_data.head()"
   ]
  },
  {
   "cell_type": "code",
   "execution_count": 71,
   "metadata": {},
   "outputs": [
    {
     "data": {
      "text/plain": [
       "Company_Phone_Number            695786\n",
       "Created_Date                    717774\n",
       "Violation_Date                  717773\n",
       "Consumer_City                   452521\n",
       "Consumer_State                  717183\n",
       "Consumer_Area_Code              717763\n",
       "Subject                         717773\n",
       "Recorded_Message_Or_Robocall    709752\n",
       "dtype: int64"
      ]
     },
     "execution_count": 71,
     "metadata": {},
     "output_type": "execute_result"
    }
   ],
   "source": [
    "dnc_data.count()"
   ]
  },
  {
   "cell_type": "code",
   "execution_count": 74,
   "metadata": {},
   "outputs": [],
   "source": [
    "dnc_data=dnc_data[dnc_data.Created_Date!='N']"
   ]
  },
  {
   "cell_type": "code",
   "execution_count": 75,
   "metadata": {},
   "outputs": [
    {
     "name": "stderr",
     "output_type": "stream",
     "text": [
      "/Users/pwitt/anaconda/lib/python2.7/site-packages/pandas/core/generic.py:4405: SettingWithCopyWarning: \n",
      "A value is trying to be set on a copy of a slice from a DataFrame.\n",
      "Try using .loc[row_indexer,col_indexer] = value instead\n",
      "\n",
      "See the caveats in the documentation: http://pandas.pydata.org/pandas-docs/stable/indexing.html#indexing-view-versus-copy\n",
      "  self[name] = value\n"
     ]
    }
   ],
   "source": [
    "dnc_data.Created_Date=pd.to_datetime(dnc_data.Created_Date)"
   ]
  },
  {
   "cell_type": "code",
   "execution_count": 76,
   "metadata": {},
   "outputs": [
    {
     "data": {
      "text/plain": [
       "array([25, 18, 11, 24, 17, 10, 23, 16,  9, 22, 15,  8, 19, 20, 21, 12, 13,\n",
       "        5,  6,  7,  4, 27,  3, 26,  2,  1, 28, 29, 30, 14])"
      ]
     },
     "execution_count": 76,
     "metadata": {},
     "output_type": "execute_result"
    }
   ],
   "source": [
    "dnc_data.Created_Date.dt.day.unique()"
   ]
  },
  {
   "cell_type": "code",
   "execution_count": 77,
   "metadata": {},
   "outputs": [
    {
     "data": {
      "text/plain": [
       "Timestamp('2018-10-25 23:59:45')"
      ]
     },
     "execution_count": 77,
     "metadata": {},
     "output_type": "execute_result"
    }
   ],
   "source": [
    "dnc_data.Created_Date.max()"
   ]
  },
  {
   "cell_type": "code",
   "execution_count": 78,
   "metadata": {},
   "outputs": [
    {
     "data": {
      "text/plain": [
       "Timestamp('2018-09-14 00:00:07')"
      ]
     },
     "execution_count": 78,
     "metadata": {},
     "output_type": "execute_result"
    }
   ],
   "source": [
    "dnc_data.Created_Date.min()"
   ]
  },
  {
   "cell_type": "code",
   "execution_count": 79,
   "metadata": {},
   "outputs": [],
   "source": [
    "dnc_data.Company_Phone_Number=dnc_data.Company_Phone_Number.astype(str)"
   ]
  },
  {
   "cell_type": "markdown",
   "metadata": {},
   "source": [
    "Nice Clean data set ready for Tableau. "
   ]
  },
  {
   "cell_type": "code",
   "execution_count": 80,
   "metadata": {},
   "outputs": [],
   "source": [
    "dnc_data.to_csv('data/dnc_pull.csv')"
   ]
  },
  {
   "cell_type": "code",
   "execution_count": null,
   "metadata": {},
   "outputs": [],
   "source": []
  }
 ],
 "metadata": {
  "kernelspec": {
   "display_name": "Python [default]",
   "language": "python",
   "name": "python2"
  },
  "language_info": {
   "codemirror_mode": {
    "name": "ipython",
    "version": 2
   },
   "file_extension": ".py",
   "mimetype": "text/x-python",
   "name": "python",
   "nbconvert_exporter": "python",
   "pygments_lexer": "ipython2",
   "version": "2.7.15"
  }
 },
 "nbformat": 4,
 "nbformat_minor": 2
}
