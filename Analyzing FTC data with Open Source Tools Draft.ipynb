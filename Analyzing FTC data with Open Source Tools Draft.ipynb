{
 "cells": [
  {
   "cell_type": "markdown",
   "metadata": {},
   "source": [
    "# Using free and open source tools to analyze data from the Federal Trade Commission (FTC)\n",
    "\n",
    "This notebook shows how to use free open source tools -- Python and Tableau Public -- to analyze Do Not Call program data made available to the public by the Federal Trade Commission.  This notebook is not affiliated with the FTC. \n",
    "\n",
    "The data used in the analysis below was taken from https://www.ftc.gov/site-information/open-government/data-sets/do-not-call-data.  It includes Do Not Call and robocall reports to the Federal Trade Commission. The data contains information reported by consumers, including the telephone number originating the unwanted call, the date the complaint was created, the time the call was made, the consumer’s city and state locations reported, the subject of the call, the consumers area code and whether the call was a robocall. \n"
   ]
  },
  {
   "attachments": {},
   "cell_type": "markdown",
   "metadata": {},
   "source": [
    "We will use python to automatically pull data from the web, clean it, and create a data set that can be used to build interactive dashboards with Tableau.  \n",
    "\n",
    "The dashboards are made available on Tableau Public – a free service that allows users to publish dashboards to the \n",
    "\n",
    "The dashboard below is located at: https://public.tableau.com/profile/paul.witt2290#!/\n",
    " "
   ]
  },
  {
   "cell_type": "markdown",
   "metadata": {
    "scrolled": false
   },
   "source": [
    "<div class='tableauPlaceholder' id='viz1540684925001' style='position: relative'><noscript><a href='#'><img alt=' ' src='https:&#47;&#47;public.tableau.com&#47;static&#47;images&#47;Do&#47;DoNotCallPublicDataSets&#47;ofCallsPerConsumerCity&#47;1_rss.png' style='border: none' /></a></noscript><object class='tableauViz'  style='display:none;'><param name='host_url' value='https%3A%2F%2Fpublic.tableau.com%2F' /> <param name='embed_code_version' value='3' /> <param name='site_root' value='' /><param name='name' value='DoNotCallPublicDataSets&#47;ofCallsPerConsumerCity' /><param name='tabs' value='no' /><param name='toolbar' value='yes' /><param name='static_image' value='https:&#47;&#47;public.tableau.com&#47;static&#47;images&#47;Do&#47;DoNotCallPublicDataSets&#47;ofCallsPerConsumerCity&#47;1.png' /> <param name='animate_transition' value='yes' /><param name='display_static_image' value='yes' /><param name='display_spinner' value='yes' /><param name='display_overlay' value='yes' /><param name='display_count' value='yes' /></object></div>                <script type='text/javascript'>                    var divElement = document.getElementById('viz1540684925001');                    var vizElement = divElement.getElementsByTagName('object')[0];                    vizElement.style.width='1000px';vizElement.style.height='827px';                    var scriptElement = document.createElement('script');                    scriptElement.src = 'https://public.tableau.com/javascripts/api/viz_v1.js';                    vizElement.parentNode.insertBefore(scriptElement, vizElement);                </script>"
   ]
  },
  {
   "cell_type": "markdown",
   "metadata": {},
   "source": [
    "## Secton I: Data Wrangling with Python"
   ]
  },
  {
   "cell_type": "markdown",
   "metadata": {},
   "source": [
    "We start by using the requests python library to access the HTML code from FTC.gov.  http://docs.python-requests.org/en/master/\n",
    "\n",
    "The requests library has a straight forward API that allows us to easliy request data from FTC.gov. \n",
    "\n",
    "\n",
    "Below we create a response object to retrive the web page that contains the data we need. The response object contains a server’s response to an HTTP request. The .get method below initiates an HTTP Get request. \n",
    "\n",
    "For more on HTTP requests see https://www.w3schools.com/tags/ref_httpmethods.asp\n"
   ]
  },
  {
   "cell_type": "code",
   "execution_count": 2,
   "metadata": {},
   "outputs": [],
   "source": [
    "import requests  \n",
    "\n",
    "r = requests.get('https://www.ftc.gov/site-information/open-government/data-sets/do-not-call-data') "
   ]
  },
  {
   "cell_type": "markdown",
   "metadata": {},
   "source": [
    "We now have a response object that gives us access to the elements of Document Oject Model and allows us to inspect the webpage that contains our data.  "
   ]
  },
  {
   "cell_type": "code",
   "execution_count": 25,
   "metadata": {
    "scrolled": true
   },
   "outputs": [
    {
     "name": "stdout",
     "output_type": "stream",
     "text": [
      "<!DOCTYPE html>\n",
      "<!--[if IEMobile 7]><html class=\"iem7\"  lang=\"en\" dir=\"ltr\"><![endif]-->\n",
      "<!--[if lte IE 6]><html class=\"lt-ie9 lt-ie8 lt-ie7\"  lang=\"en\" dir=\"ltr\"><![endif]-->\n",
      "<!--[if (IE 7)&(!IEMobile)]><html class=\"lt-ie9 lt-ie8\"  lang=\"en\" dir=\"ltr\"><![endif]-->\n",
      "<!--[if (IE 7)]><html class=\"lt-ie8\"  lang=\"en\" dir=\"ltr\"><![endif]-->\n",
      "<!--[if IE 8]><html class=\"lt-ie9\"  lang=\"en\" dir=\"ltr\"><![endif]-->\n",
      "<!--[if (gte IE 9)|(gt IEMobile 7)]><!--><html  lang=\"en\" dir=\"ltr\" prefix=\"og: http://ogp.me/ns# article: http://ogp.me/ns/article# book: http://ogp.me/ns/book# profile: http://ogp.me/ns/profile# video: http://ogp.me/ns/video# product: http://ogp.me/ns/product# content: http://purl.org/rss/1.0/modules/content/ dc: http://purl.org/dc/terms/ foaf: http://xmlns.com/foaf/0.1/ rdfs: http://www.w3.org/2000/01/rdf-schema# sioc: http://rdfs.org/sioc/ns# sioct: http://rdfs.org/sioc/types# skos: http://www.w3.org/2004/02/skos/core# xsd: http://www.w3.org/2001/XMLSchema#\"><!--<![endif]-->\n",
      "\n",
      "<head p\n"
     ]
    }
   ],
   "source": [
    "print(r.text[:1000]) "
   ]
  },
  {
   "cell_type": "markdown",
   "metadata": {},
   "source": [
    "We only need to access csv files, so most of what we see here is not useful. We could use string operations to search and find what we need but that would be combersome and time consuming.  Instead, we will use the Beautiful Soup python library. The Beautiful Soup API will help us quickly parse the strings on this page to get at what we need. \n",
    "\n",
    "Beautiful Soup transforms a complex HTML document into a complex tree of Python objects. For our purposes, the ability to quickly seach and access the tags, attributes and elements in the webpage will be necessary to retrieve our data. \n",
    "\n",
    "For more on HTML objects see https://www.456bereastreet.com/archive/200508/html_tags_vs_elements_vs_attributes/\n",
    "\n",
    "We start by importing Beautiful Soup Library. We will pass our response object into a BS HTML parser. \n"
   ]
  },
  {
   "cell_type": "code",
   "execution_count": 4,
   "metadata": {},
   "outputs": [],
   "source": [
    "from bs4 import BeautifulSoup  \n",
    "soup = BeautifulSoup(r.text, 'html.parser') "
   ]
  },
  {
   "cell_type": "code",
   "execution_count": 32,
   "metadata": {},
   "outputs": [
    {
     "data": {
      "text/plain": [
       "[<script>(function(w,d,s,l,i){w[l]=w[l]||[];w[l].push({'gtm.start':\\n  new Date().getTime(),event:'gtm.js'});var f=d.getElementsByTagName(s)[0],\\n  j=d.createElement(s),dl=l!='dataLayer'?'&l='+l:'';j.async=true;j.src=\\n  'https://www.googletagmanager.com/gtm.js?id='+i+dl;f.parentNode.insertBefore(j,f);\\n  })(window,document,'script','dataLayer','GTM-KFKRFZQ');</script>,\n",
       " <meta charset=\"unicode-escape\"/>,\n",
       " <link href=\"/node/1395982\" rel=\"shortlink\"/>,\n",
       " <link href=\"https://www.ftc.gov/sites/default/files/favicon_4.ico\" rel=\"shortcut icon\" type=\"image/vnd.microsoft.icon\"/>,\n",
       " <link href=\"/site-information/open-government/data-sets/do-not-call-data\" rel=\"canonical\"/>,\n",
       " <meta content=\"Drupal 7 (http://drupal.org)\" name=\"Generator\"/>,\n",
       " <meta content=\"The official website of the Federal Trade Commission, protecting America\\u2019s consumers for over 100 years.\" name=\"description\"/>,\n",
       " <meta content=\"Drupal 7 (http://drupal.org)\" name=\"generator\"/>,\n",
       " <link href=\"https://www.ftc.gov/sites/default/files/default_images/ftc_social_share_default_en.jpg\" rel=\"image_src\"/>,\n",
       " <link href=\"https://www.ftc.gov/site-information/open-government/data-sets/do-not-call-data\" rel=\"canonical\"/>,\n",
       " <link href=\"https://www.ftc.gov/node/1395982\" rel=\"shortlink\"/>,\n",
       " <meta content=\"Federal Trade Commission\" property=\"og:site_name\"/>,\n",
       " <meta content=\"article\" property=\"og:type\"/>,\n",
       " <meta content=\"https://www.ftc.gov/site-information/open-government/data-sets/do-not-call-data\" property=\"og:url\"/>,\n",
       " <meta content=\"Do Not Call (DNC) Reported Calls Data\" property=\"og:title\"/>,\n",
       " <meta content=\"2018-10-26T12:59:54-04:00\" property=\"og:updated_time\"/>,\n",
       " <meta content=\"The official website of the Federal Trade Commission, protecting America\\u2019s consumers for over 100 years.\" property=\"og:description\"/>,\n",
       " <meta content=\"https://www.ftc.gov/sites/default/files/default_images/ftc_social_share_default_en.jpg\" property=\"og:image\"/>,\n",
       " <meta content=\"https://www.ftc.gov/sites/default/files/default_images/ftc_social_share_default_en.jpg\" property=\"og:image:url\"/>,\n",
       " <meta content=\"https://www.ftc.gov/sites/default/files/default_images/ftc_social_share_default_en.jpg\" property=\"og:image:secure_url\"/>,\n",
       " <meta content=\"summary\" name=\"twitter:card\"/>,\n",
       " <meta content=\"@FTC\" name=\"twitter:site\"/>,\n",
       " <meta content=\"187993109\" name=\"twitter:site:id\"/>,\n",
       " <meta content=\"@FTC\" name=\"twitter:creator\"/>,\n",
       " <meta content=\"187993109\" name=\"twitter:creator:id\"/>,\n",
       " <meta content=\"Do Not Call (DNC) Reported Calls Data\" name=\"twitter:title\"/>,\n",
       " <meta content=\"https://www.ftc.gov/site-information/open-government/data-sets/do-not-call-data\" name=\"twitter:url\"/>,\n",
       " <meta content=\"The official website of the Federal Trade Commission, protecting America\\u2019s consumers for over 100 years.\" name=\"twitter:description\"/>,\n",
       " <meta content=\"https://www.ftc.gov/sites/default/files/default_images/ftc_social_share_default_en.jpg\" name=\"twitter:image\"/>,\n",
       " <meta content=\"1200\" name=\"twitter:image:width\"/>,\n",
       " <meta content=\"630\" name=\"twitter:image:height\"/>,\n",
       " <meta content=\"2018-07-27T15:15:59-04:00\" property=\"article:published_time\"/>,\n",
       " <meta content=\"2018-10-26T12:59:54-04:00\" property=\"article:modified_time\"/>,\n",
       " <title>Do Not Call (DNC) Reported Calls Data | Federal Trade Commission</title>,\n",
       " <meta content=\"width\" name=\"MobileOptimized\"/>,\n",
       " <meta content=\"true\" name=\"HandheldFriendly\"/>,\n",
       " <meta content=\"width=device-width, initial-scale=1.0\" name=\"viewport\"/>,\n",
       " <meta content=\"on\" http-equiv=\"cleartype\"/>,\n",
       " <style>\\n@import url(\"https://www.ftc.gov/modules/system/system.messages.css?ph83uw\");\\n</style>,\n",
       " <style>\\n@import url(\"https://www.ftc.gov/sites/all/modules/contrib/jquery_update/replace/ui/themes/base/minified/jquery.ui.core.min.css?ph83uw\");\\n@import url(\"https://www.ftc.gov/sites/all/modules/contrib/jquery_update/replace/ui/themes/base/minified/jquery.ui.theme.min.css?ph83uw\");\\n@import url(\"https://www.ftc.gov/sites/all/modules/contrib/jquery_update/replace/ui/themes/base/minified/jquery.ui.menu.min.css?ph83uw\");\\n@import url(\"https://www.ftc.gov/sites/all/modules/contrib/jquery_update/replace/ui/themes/base/minified/jquery.ui.autocomplete.min.css?ph83uw\");\\n</style>,\n",
       " <style>\\n@import url(\"https://www.ftc.gov/modules/aggregator/aggregator.css?ph83uw\");\\n@import url(\"https://www.ftc.gov/modules/book/book.css?ph83uw\");\\n@import url(\"https://www.ftc.gov/sites/all/modules/contrib/calendar/css/calendar_multiday.css?ph83uw\");\\n@import url(\"https://www.ftc.gov/modules/comment/comment.css?ph83uw\");\\n@import url(\"https://www.ftc.gov/sites/all/modules/contrib/date/date_api/date.css?ph83uw\");\\n@import url(\"https://www.ftc.gov/sites/all/modules/contrib/date/date_popup/themes/datepicker.1.7.css?ph83uw\");\\n@import url(\"https://www.ftc.gov/sites/all/modules/contrib/date/date_repeat_field/date_repeat_field.css?ph83uw\");\\n@import url(\"https://www.ftc.gov/sites/all/modules/contrib/fences/field.css?ph83uw\");\\n@import url(\"https://www.ftc.gov/sites/all/modules/custom/ftc_careers_utility/css/font-awesome.min.css?ph83uw\");\\n@import url(\"https://www.ftc.gov/modules/node/node.css?ph83uw\");\\n@import url(\"https://www.ftc.gov/modules/search/search.css?ph83uw\");\\n@import url(\"https://www.ftc.gov/modules/user/user.css?ph83uw\");\\n@import url(\"https://www.ftc.gov/sites/all/modules/contrib/extlink/extlink.css?ph83uw\");\\n@import url(\"https://www.ftc.gov/sites/all/modules/contrib/views/css/views.css?ph83uw\");\\n@import url(\"https://www.ftc.gov/sites/all/modules/contrib/media/modules/media_wysiwyg/css/media_wysiwyg.base.css?ph83uw\");\\n</style>,\n",
       " <style>\\n@import url(\"https://www.ftc.gov/sites/all/modules/contrib/colorbox/styles/default/colorbox_style.css?ph83uw\");\\n@import url(\"https://www.ftc.gov/sites/all/modules/contrib/ctools/css/ctools.css?ph83uw\");\\n@import url(\"https://www.ftc.gov/sites/all/libraries/jreject/css/jquery.reject.css?ph83uw\");\\n@import url(\"https://www.ftc.gov/sites/all/modules/contrib/megamenu/megamenu.css?ph83uw\");\\n@import url(\"https://www.ftc.gov/sites/all/modules/contrib/megamenu/megamenu-skins.css?ph83uw\");\\n@import url(\"https://www.ftc.gov/sites/all/modules/contrib/node_embed/plugins/node_embed/node_embed.css?ph83uw\");\\n@import url(\"https://www.ftc.gov/sites/all/modules/contrib/search_autocomplete/css/themes/user-blue.css?ph83uw\");\\n@import url(\"https://www.ftc.gov/sites/all/modules/contrib/search_autocomplete/css/themes/basic-green.css?ph83uw\");\\n</style>,\n",
       " <link href=\"https://maxcdn.bootstrapcdn.com/font-awesome/4.1.0/css/font-awesome.min.css\" media=\"all\" rel=\"stylesheet\" type=\"text/css\"/>,\n",
       " <style>\\n@import url(\"https://www.ftc.gov/sites/all/themes/ftc/css/system.base.css?ph83uw\");\\n@import url(\"https://www.ftc.gov/sites/all/themes/ftc/css/system.theme.css?ph83uw\");\\n@import url(\"https://www.ftc.gov/sites/all/themes/ftc/css/normalize.css?ph83uw\");\\n@import url(\"https://www.ftc.gov/sites/all/themes/ftc/css/wireframes.css?ph83uw\");\\n@import url(\"https://www.ftc.gov/sites/all/themes/ftc/css/layouts/responsive-sidebars.css?ph83uw\");\\n@import url(\"https://www.ftc.gov/sites/all/themes/ftc/css/fonts.css?ph83uw\");\\n@import url(\"https://www.ftc.gov/sites/all/themes/ftc/css/tabs.css?ph83uw\");\\n@import url(\"https://www.ftc.gov/sites/all/themes/ftc/css/pages.css?ph83uw\");\\n@import url(\"https://www.ftc.gov/sites/all/themes/ftc/css/blocks.css?ph83uw\");\\n@import url(\"https://www.ftc.gov/sites/all/themes/ftc/css/navigation.css?ph83uw\");\\n@import url(\"https://www.ftc.gov/sites/all/themes/ftc/css/views-styles.css?ph83uw\");\\n@import url(\"https://www.ftc.gov/sites/all/themes/ftc/css/nodes.css?ph83uw\");\\n@import url(\"https://www.ftc.gov/sites/all/themes/ftc/css/content.css?ph83uw\");\\n@import url(\"https://www.ftc.gov/sites/all/themes/ftc/css/comments.css?ph83uw\");\\n@import url(\"https://www.ftc.gov/sites/all/themes/ftc/css/forms.css?ph83uw\");\\n@import url(\"https://www.ftc.gov/sites/all/themes/ftc/css/fields.css?ph83uw\");\\n@import url(\"https://www.ftc.gov/sites/all/themes/ftc/css/gallery.css?ph83uw\");\\n@import url(\"https://www.ftc.gov/sites/all/themes/ftc/css/slideshow.css?ph83uw\");\\n@import url(\"https://www.ftc.gov/sites/all/themes/ftc/css/quicktabs-featured.css?ph83uw\");\\n@import url(\"https://www.ftc.gov/sites/all/themes/ftc/css/careers/careers.css?ph83uw\");\\n@import url(\"https://www.ftc.gov/sites/all/themes/ftc/css/socialshare.css?ph83uw\");\\n@import url(\"https://www.ftc.gov/sites/all/themes/ftc/css/business.css?ph83uw\");\\n@import url(\"https://www.ftc.gov/sites/all/themes/ftc/css/components/components.css?ph83uw\");\\n@import url(\"https://www.ftc.gov/sites/all/themes/ftc/css/custom-pages/custom-pages.css?ph83uw\");\\n</style>,\n",
       " <style media=\"print\">\\n@import url(\"https://www.ftc.gov/sites/all/themes/ftc/css/print.css?ph83uw\");\\n</style>,\n",
       " <script src=\"https://www.ftc.gov/sites/all/libraries/modernizr/modernizr.custom.88036.js?ph83uw\"></script>,\n",
       " <script src=\"https://www.ftc.gov/sites/all/modules/contrib/jquery_update/replace/jquery/1.8/jquery.min.js?v=1.8.3\"></script>,\n",
       " <script src=\"https://www.ftc.gov/misc/jquery.once.js?v=1.2\"></script>,\n",
       " <script src=\"https://www.ftc.gov/misc/drupal.js?ph83uw\"></script>,\n",
       " <script src=\"https://www.ftc.gov/sites/all/modules/contrib/jquery_update/replace/ui/external/jquery.cookie.js?v=67fb34f6a866c40d0570\"></script>,\n",
       " <script src=\"https://www.ftc.gov/sites/all/modules/contrib/jquery_update/replace/ui/ui/minified/jquery.ui.core.min.js?v=1.10.2\"></script>,\n",
       " <script src=\"https://www.ftc.gov/sites/all/modules/contrib/jquery_update/replace/ui/ui/minified/jquery.ui.widget.min.js?v=1.10.2\"></script>,\n",
       " <script src=\"https://www.ftc.gov/sites/all/modules/contrib/jquery_update/replace/ui/ui/minified/jquery.ui.position.min.js?v=1.10.2\"></script>,\n",
       " <script src=\"https://www.ftc.gov/sites/all/modules/contrib/jquery_update/replace/ui/ui/minified/jquery.ui.menu.min.js?v=1.10.2\"></script>,\n",
       " <script src=\"https://www.ftc.gov/sites/all/modules/contrib/jquery_update/replace/ui/ui/minified/jquery.ui.autocomplete.min.js?v=1.10.2\"></script>,\n",
       " <script src=\"https://www.ftc.gov/misc/form.js?v=7.60\"></script>,\n",
       " <script src=\"https://www.ftc.gov/sites/all/modules/contrib/admin_menu/admin_devel/admin_devel.js?ph83uw\"></script>,\n",
       " <script src=\"https://www.ftc.gov/sites/all/modules/custom/caseblock_ftc/js/custom.js?ph83uw\"></script>,\n",
       " <script src=\"https://www.ftc.gov/sites/all/modules/contrib/extlink/extlink.js?ph83uw\"></script>,\n",
       " <script src=\"https://sadmin.brightcove.com/js/BrightcoveExperiences.js\"></script>,\n",
       " <script src=\"https://www.ftc.gov/sites/all/libraries/colorbox/jquery.colorbox-min.js?ph83uw\"></script>,\n",
       " <script src=\"https://www.ftc.gov/sites/all/modules/contrib/colorbox/js/colorbox.js?ph83uw\"></script>,\n",
       " <script src=\"https://www.ftc.gov/sites/all/modules/contrib/colorbox/styles/default/colorbox_style.js?ph83uw\"></script>,\n",
       " <script src=\"https://www.ftc.gov/sites/all/modules/contrib/colorbox/js/colorbox_load.js?ph83uw\"></script>,\n",
       " <script src=\"https://www.ftc.gov/sites/all/modules/contrib/colorbox/js/colorbox_inline.js?ph83uw\"></script>,\n",
       " <script src=\"https://www.ftc.gov/sites/all/libraries/jreject/js/jquery.reject.js?ph83uw\"></script>,\n",
       " <script>    (function($) {\\n      Drupal.behaviors.jReject = {\\n        attach: function (context, settings) {\\n          $.reject({\\n          display: [\"msie\", \"firefox\", \"safari\", \"opera\", \"chrome\", \"gcf\"],\\n            reject: {  \\n                msie5: true, msie6: true\\n            },\\n            imagePath: '/sites/all/libraries/jreject/images/',\\n            enable: true, header: \"Did you know that your Internet Browser is out of date?\", paragraph1: \"Your browser is out of date, and may not be compatible with our website. A list of the most popular web browsers can be found below.\", paragraph2: \"Just click on the icons to get to the download page:\", closeMessage: \"By closing this window you acknowledge that your experience on this website may be degraded.\", closeLink: \"Close This Window\", closeURL: \"#\", close: true, closeESC: true, closeCookie: false, overlayBgColor: \"#000\", overlayOpacity: 0.8, fadeInTime: \"fast\", fadeOutTime: \"fast\"\\n          }); \\n          return false;  \\n        }\\n      }\\n    })(jQuery);</script>,\n",
       " <script src=\"https://www.ftc.gov/sites/all/modules/custom/sharetext/social.js?ph83uw\"></script>,\n",
       " <script src=\"https://www.ftc.gov/sites/all/modules/contrib/megamenu/megamenu.js?ph83uw\"></script>,\n",
       " <script src=\"https://www.ftc.gov/sites/all/modules/contrib/search_autocomplete/js/jquery.autocomplete.js?ph83uw\"></script>,\n",
       " <script src=\"https://www.ftc.gov/misc/collapse.js?v=7.60\"></script>,\n",
       " <script src=\"https://www.ftc.gov/sites/all/modules/custom/ftc_careers_utility/js/ie-check.js?ph83uw\"></script>,\n",
       " <script src=\"https://www.ftc.gov/sites/all/themes/ftc/js/picturefill/picturefill.js?ph83uw\"></script>,\n",
       " <script src=\"https://www.ftc.gov/sites/all/themes/ftc/js/superfish/js/hoverIntent.js?ph83uw\"></script>,\n",
       " <script src=\"https://www.ftc.gov/sites/all/themes/ftc/js/superfish/js/jquery.superfish-1.5.0.js?ph83uw\"></script>,\n",
       " <script src=\"https://www.ftc.gov/sites/all/themes/ftc/js/superfish/js/supersubs.js?ph83uw\"></script>,\n",
       " <script src=\"https://www.ftc.gov/sites/all/themes/ftc/js/touchclick/jquery.touchclick.js?ph83uw\"></script>,\n",
       " <script src=\"https://www.ftc.gov/sites/all/themes/ftc/js/underscore/underscore.min.js?ph83uw\"></script>,\n",
       " <script src=\"https://www.ftc.gov/sites/all/themes/ftc/js/matchMedia/matchMedia.js?ph83uw\"></script>,\n",
       " <script src=\"https://www.ftc.gov/sites/all/themes/ftc/js/mobilemenu/jquery.mobilemenu-rightleft.js?ph83uw\"></script>,\n",
       " <script src=\"https://www.ftc.gov/sites/all/themes/ftc/js/jquery.collapsenav.js?ph83uw\"></script>,\n",
       " <script src=\"https://www.ftc.gov/sites/all/themes/ftc/js/enquire.min.js?ph83uw\"></script>,\n",
       " <script src=\"https://www.ftc.gov/sites/all/themes/ftc/js/jquery.customSelect-master/jquery.customSelect.js?ph83uw\"></script>,\n",
       " <script src=\"https://www.ftc.gov/sites/all/themes/ftc/js/responsive-agenda-tables.js?ph83uw\"></script>,\n",
       " <script src=\"https://www.ftc.gov/sites/all/themes/ftc/js/script.js?ph83uw\"></script>,\n",
       " <script src=\"https://www.ftc.gov/sites/all/themes/ftc/js/selectivizr.js?ph83uw\"></script>,\n",
       " <script>jQuery.extend(Drupal.settings, {\"basePath\":\"\\\\/\",\"pathPrefix\":\"\",\"ajaxPageState\":{\"theme\":\"ftc\",\"theme_token\":\"Tx4bxdPLjlGkvSMPw-sOtnUG5U6RfgkUdEiXEYJS78Q\",\"js\":{\"sites\\\\/all\\\\/modules\\\\/contrib\\\\/extlink_extra\\\\/extlink_extra.js\":1,\"0\":1,\"sites\\\\/all\\\\/libraries\\\\/modernizr\\\\/modernizr.custom.88036.js\":1,\"sites\\\\/all\\\\/modules\\\\/contrib\\\\/jquery_update\\\\/replace\\\\/jquery\\\\/1.8\\\\/jquery.min.js\":1,\"misc\\\\/jquery.once.js\":1,\"misc\\\\/drupal.js\":1,\"sites\\\\/all\\\\/modules\\\\/contrib\\\\/jquery_update\\\\/replace\\\\/ui\\\\/external\\\\/jquery.cookie.js\":1,\"sites\\\\/all\\\\/modules\\\\/contrib\\\\/jquery_update\\\\/replace\\\\/ui\\\\/ui\\\\/minified\\\\/jquery.ui.core.min.js\":1,\"sites\\\\/all\\\\/modules\\\\/contrib\\\\/jquery_update\\\\/replace\\\\/ui\\\\/ui\\\\/minified\\\\/jquery.ui.widget.min.js\":1,\"sites\\\\/all\\\\/modules\\\\/contrib\\\\/jquery_update\\\\/replace\\\\/ui\\\\/ui\\\\/minified\\\\/jquery.ui.position.min.js\":1,\"sites\\\\/all\\\\/modules\\\\/contrib\\\\/jquery_update\\\\/replace\\\\/ui\\\\/ui\\\\/minified\\\\/jquery.ui.menu.min.js\":1,\"sites\\\\/all\\\\/modules\\\\/contrib\\\\/jquery_update\\\\/replace\\\\/ui\\\\/ui\\\\/minified\\\\/jquery.ui.autocomplete.min.js\":1,\"misc\\\\/form.js\":1,\"sites\\\\/all\\\\/modules\\\\/contrib\\\\/admin_menu\\\\/admin_devel\\\\/admin_devel.js\":1,\"sites\\\\/all\\\\/modules\\\\/custom\\\\/caseblock_ftc\\\\/js\\\\/custom.js\":1,\"sites\\\\/all\\\\/modules\\\\/contrib\\\\/extlink\\\\/extlink.js\":1,\"https:\\\\/\\\\/sadmin.brightcove.com\\\\/js\\\\/BrightcoveExperiences.js\":1,\"sites\\\\/all\\\\/libraries\\\\/colorbox\\\\/jquery.colorbox-min.js\":1,\"sites\\\\/all\\\\/modules\\\\/contrib\\\\/colorbox\\\\/js\\\\/colorbox.js\":1,\"sites\\\\/all\\\\/modules\\\\/contrib\\\\/colorbox\\\\/styles\\\\/default\\\\/colorbox_style.js\":1,\"sites\\\\/all\\\\/modules\\\\/contrib\\\\/colorbox\\\\/js\\\\/colorbox_load.js\":1,\"sites\\\\/all\\\\/modules\\\\/contrib\\\\/colorbox\\\\/js\\\\/colorbox_inline.js\":1,\"sites\\\\/all\\\\/libraries\\\\/jreject\\\\/js\\\\/jquery.reject.js\":1,\"1\":1,\"sites\\\\/all\\\\/modules\\\\/custom\\\\/sharetext\\\\/social.js\":1,\"sites\\\\/all\\\\/modules\\\\/contrib\\\\/megamenu\\\\/megamenu.js\":1,\"sites\\\\/all\\\\/modules\\\\/contrib\\\\/search_autocomplete\\\\/js\\\\/jquery.autocomplete.js\":1,\"misc\\\\/collapse.js\":1,\"sites\\\\/all\\\\/modules\\\\/custom\\\\/ftc_careers_utility\\\\/js\\\\/ie-check.js\":1,\"sites\\\\/all\\\\/themes\\\\/ftc\\\\/js\\\\/picturefill\\\\/picturefill.js\":1,\"sites\\\\/all\\\\/themes\\\\/ftc\\\\/js\\\\/superfish\\\\/js\\\\/hoverIntent.js\":1,\"sites\\\\/all\\\\/themes\\\\/ftc\\\\/js\\\\/superfish\\\\/js\\\\/jquery.superfish-1.5.0.js\":1,\"sites\\\\/all\\\\/themes\\\\/ftc\\\\/js\\\\/superfish\\\\/js\\\\/supersubs.js\":1,\"sites\\\\/all\\\\/themes\\\\/ftc\\\\/js\\\\/touchclick\\\\/jquery.touchclick.js\":1,\"sites\\\\/all\\\\/themes\\\\/ftc\\\\/js\\\\/underscore\\\\/underscore.min.js\":1,\"sites\\\\/all\\\\/themes\\\\/ftc\\\\/js\\\\/matchMedia\\\\/matchMedia.js\":1,\"sites\\\\/all\\\\/themes\\\\/ftc\\\\/js\\\\/mobilemenu\\\\/jquery.mobilemenu-rightleft.js\":1,\"sites\\\\/all\\\\/themes\\\\/ftc\\\\/js\\\\/jquery.collapsenav.js\":1,\"sites\\\\/all\\\\/themes\\\\/ftc\\\\/js\\\\/enquire.min.js\":1,\"sites\\\\/all\\\\/themes\\\\/ftc\\\\/js\\\\/jquery.customSelect-master\\\\/jquery.customSelect.js\":1,\"sites\\\\/all\\\\/themes\\\\/ftc\\\\/js\\\\/responsive-agenda-tables.js\":1,\"sites\\\\/all\\\\/themes\\\\/ftc\\\\/js\\\\/script.js\":1,\"sites\\\\/all\\\\/themes\\\\/ftc\\\\/js\\\\/selectivizr.js\":1},\"css\":{\"modules\\\\/system\\\\/system.base.css\":1,\"modules\\\\/system\\\\/system.menus.css\":1,\"modules\\\\/system\\\\/system.messages.css\":1,\"modules\\\\/system\\\\/system.theme.css\":1,\"misc\\\\/ui\\\\/jquery.ui.core.css\":1,\"misc\\\\/ui\\\\/jquery.ui.theme.css\":1,\"misc\\\\/ui\\\\/jquery.ui.menu.css\":1,\"misc\\\\/ui\\\\/jquery.ui.autocomplete.css\":1,\"modules\\\\/aggregator\\\\/aggregator.css\":1,\"modules\\\\/book\\\\/book.css\":1,\"sites\\\\/all\\\\/modules\\\\/contrib\\\\/calendar\\\\/css\\\\/calendar_multiday.css\":1,\"modules\\\\/comment\\\\/comment.css\":1,\"sites\\\\/all\\\\/modules\\\\/contrib\\\\/date\\\\/date_api\\\\/date.css\":1,\"sites\\\\/all\\\\/modules\\\\/contrib\\\\/date\\\\/date_popup\\\\/themes\\\\/datepicker.1.7.css\":1,\"sites\\\\/all\\\\/modules\\\\/contrib\\\\/date\\\\/date_repeat_field\\\\/date_repeat_field.css\":1,\"modules\\\\/field\\\\/theme\\\\/field.css\":1,\"sites\\\\/all\\\\/modules\\\\/custom\\\\/ftc_careers_utility\\\\/css\\\\/font-awesome.min.css\":1,\"modules\\\\/node\\\\/node.css\":1,\"modules\\\\/search\\\\/search.css\":1,\"modules\\\\/user\\\\/user.css\":1,\"sites\\\\/all\\\\/modules\\\\/contrib\\\\/extlink\\\\/extlink.css\":1,\"sites\\\\/all\\\\/modules\\\\/contrib\\\\/views\\\\/css\\\\/views.css\":1,\"sites\\\\/all\\\\/modules\\\\/contrib\\\\/media\\\\/modules\\\\/media_wysiwyg\\\\/css\\\\/media_wysiwyg.base.css\":1,\"sites\\\\/all\\\\/modules\\\\/contrib\\\\/colorbox\\\\/styles\\\\/default\\\\/colorbox_style.css\":1,\"sites\\\\/all\\\\/modules\\\\/contrib\\\\/ctools\\\\/css\\\\/ctools.css\":1,\"sites\\\\/all\\\\/libraries\\\\/jreject\\\\/css\\\\/jquery.reject.css\":1,\"sites\\\\/all\\\\/modules\\\\/contrib\\\\/megamenu\\\\/megamenu.css\":1,\"sites\\\\/all\\\\/modules\\\\/contrib\\\\/megamenu\\\\/megamenu-skins.css\":1,\"sites\\\\/all\\\\/modules\\\\/contrib\\\\/node_embed\\\\/plugins\\\\/node_embed\\\\/node_embed.css\":1,\"sites\\\\/all\\\\/modules\\\\/contrib\\\\/search_autocomplete\\\\/css\\\\/themes\\\\/user-blue.css\":1,\"sites\\\\/all\\\\/modules\\\\/contrib\\\\/search_autocomplete\\\\/css\\\\/themes\\\\/basic-green.css\":1,\"https:\\\\/\\\\/maxcdn.bootstrapcdn.com\\\\/font-awesome\\\\/4.1.0\\\\/css\\\\/font-awesome.min.css\":1,\"sites\\\\/all\\\\/themes\\\\/ftc\\\\/system.menus.css\":1,\"sites\\\\/all\\\\/themes\\\\/ftc\\\\/css\\\\/system.base.css\":1,\"sites\\\\/all\\\\/themes\\\\/ftc\\\\/css\\\\/system.theme.css\":1,\"sites\\\\/all\\\\/themes\\\\/ftc\\\\/css\\\\/normalize.css\":1,\"sites\\\\/all\\\\/themes\\\\/ftc\\\\/css\\\\/wireframes.css\":1,\"sites\\\\/all\\\\/themes\\\\/ftc\\\\/css\\\\/layouts\\\\/responsive-sidebars.css\":1,\"sites\\\\/all\\\\/themes\\\\/ftc\\\\/css\\\\/fonts.css\":1,\"sites\\\\/all\\\\/themes\\\\/ftc\\\\/css\\\\/page-backgrounds.css\":1,\"sites\\\\/all\\\\/themes\\\\/ftc\\\\/css\\\\/tabs.css\":1,\"sites\\\\/all\\\\/themes\\\\/ftc\\\\/css\\\\/pages.css\":1,\"sites\\\\/all\\\\/themes\\\\/ftc\\\\/css\\\\/blocks.css\":1,\"sites\\\\/all\\\\/themes\\\\/ftc\\\\/css\\\\/navigation.css\":1,\"sites\\\\/all\\\\/themes\\\\/ftc\\\\/css\\\\/views-styles.css\":1,\"sites\\\\/all\\\\/themes\\\\/ftc\\\\/css\\\\/nodes.css\":1,\"sites\\\\/all\\\\/themes\\\\/ftc\\\\/css\\\\/content.css\":1,\"sites\\\\/all\\\\/themes\\\\/ftc\\\\/css\\\\/comments.css\":1,\"sites\\\\/all\\\\/themes\\\\/ftc\\\\/css\\\\/forms.css\":1,\"sites\\\\/all\\\\/themes\\\\/ftc\\\\/css\\\\/fields.css\":1,\"sites\\\\/all\\\\/themes\\\\/ftc\\\\/css\\\\/gallery.css\":1,\"sites\\\\/all\\\\/themes\\\\/ftc\\\\/css\\\\/slideshow.css\":1,\"sites\\\\/all\\\\/themes\\\\/ftc\\\\/css\\\\/quicktabs-featured.css\":1,\"sites\\\\/all\\\\/themes\\\\/ftc\\\\/css\\\\/careers\\\\/careers.css\":1,\"sites\\\\/all\\\\/themes\\\\/ftc\\\\/css\\\\/socialshare.css\":1,\"sites\\\\/all\\\\/themes\\\\/ftc\\\\/css\\\\/business.css\":1,\"sites\\\\/all\\\\/themes\\\\/ftc\\\\/css\\\\/components\\\\/components.css\":1,\"sites\\\\/all\\\\/themes\\\\/ftc\\\\/css\\\\/custom-pages\\\\/custom-pages.css\":1,\"sites\\\\/all\\\\/themes\\\\/ftc\\\\/css\\\\/print.css\":1}},\"colorbox\":{\"opacity\":\"0.85\",\"current\":\"{current} of {total}\",\"previous\":\"\\\\u00ab Prev\",\"next\":\"Next \\\\u00bb\",\"close\":\"Close\",\"maxWidth\":\"98%\",\"maxHeight\":\"98%\",\"fixed\":true,\"mobiledetect\":true,\"mobiledevicewidth\":\"480px\"},\"better_exposed_filters\":{\"views\":{\"top_alerts\":{\"displays\":{\"block\":{\"filters\":[]}}},\"tags\":{\"displays\":{\"block\":{\"filters\":[]}}}}},\"megamenu\":{\"timeout\":\"500\",\"sizewait\":\"250\",\"hoverwait\":\"400\"},\"search_autocomplete\":{\"form3\":{\"selector\":\"#search-form[action=\\\\u0022\\\\/search\\\\/node\\\\u0022] #edit-keys\",\"minChars\":\"3\",\"max_sug\":\"10\",\"type\":\"internal\",\"datas\":\"https:\\\\/\\\\/www.ftc.gov\\\\/search_autocomplete\\\\/autocomplete\\\\/3\\\\/\",\"fid\":\"3\",\"theme\":\"basic-green\",\"auto_submit\":\"1\",\"auto_redirect\":\"1\"},\"form13\":{\"selector\":\"#search-form[action=\\\\u0022\\\\/search\\\\/user\\\\u0022] #edit-keys\",\"minChars\":\"3\",\"max_sug\":\"10\",\"type\":\"internal\",\"datas\":\"https:\\\\/\\\\/www.ftc.gov\\\\/search_autocomplete\\\\/autocomplete\\\\/2\\\\/\",\"fid\":\"13\",\"theme\":\"user-blue\",\"auto_submit\":\"1\",\"auto_redirect\":\"1\"},\"form23\":{\"selector\":\"#edit-search-block-form--2\",\"minChars\":\"3\",\"max_sug\":\"10\",\"type\":\"internal\",\"datas\":\"https:\\\\/\\\\/www.ftc.gov\\\\/search_autocomplete\\\\/autocomplete\\\\/23\\\\/\",\"fid\":\"23\",\"theme\":\"basic-green\",\"auto_submit\":\"1\",\"auto_redirect\":\"0\"},\"form33\":{\"selector\":\"input#edit-keys.form-text\",\"minChars\":\"3\",\"max_sug\":\"10\",\"type\":\"internal\",\"datas\":\"https:\\\\/\\\\/www.ftc.gov\\\\/search_autocomplete\\\\/autocomplete\\\\/33\\\\/\",\"fid\":\"33\",\"theme\":\"basic-green\",\"auto_submit\":\"1\",\"auto_redirect\":\"0\"},\"form43\":{\"selector\":\"input#edit-search-block-form--4.form-text\",\"minChars\":\"3\",\"max_sug\":\"10\",\"type\":\"internal\",\"datas\":\"https:\\\\/\\\\/www.ftc.gov\\\\/search_autocomplete\\\\/autocomplete\\\\/43\\\\/\",\"fid\":\"43\",\"theme\":\"basic-green\",\"auto_submit\":\"1\",\"auto_redirect\":\"0\"}},\"extlink\":{\"extTarget\":0,\"extClass\":\"ext\",\"extLabel\":\"(link is external)\",\"extImgClass\":0,\"extIconPlacement\":0,\"extSubdomains\":1,\"extExclude\":\"(\\\\\\\\.gov)|(\\\\\\\\.mil)|(ftcpublic\\\\\\\\.commentworks\\\\\\\\.com)|(kvgo\\\\\\\\.com)|(taxclub\\\\\\\\.redressadministrator\\\\\\\\.com)|(annualcreditreport\\\\\\\\.com)|(present\\\\\\\\.knowledgevision\\\\\\\\.com)|(secureweb2\\\\\\\\.rustconsulting\\\\\\\\.com\\\\\\\\\\\\/ftcleanspa)|(ftcsettlementatt\\\\\\\\.com)|(ftcsettlementatt\\\\\\\\.com\\\\\\\\\\\\/es\\\\\\\\\\\\/Claim)|(claims\\\\\\\\.prepaidphonerefund\\\\\\\\.com)|(prepaidphonerefund\\\\\\\\.com)|(secureweb2\\\\\\\\.rustconsulting\\\\\\\\.com\\\\\\\\\\\\/ftcwacoal\\\\\\\\\\\\/ocf\\\\\\\\.aspx)|(scoresense\\\\\\\\.redressadministrator\\\\\\\\.com)|(lumosityrefund\\\\\\\\.redressadministrator\\\\\\\\.com)|(genesistoday\\\\\\\\.redressadministrator\\\\\\\\.com)|(genesistoday\\\\\\\\.redressadministrator\\\\\\\\.com)|(genesistoday\\\\\\\\.redressadministrator\\\\\\\\.com)|(genesistoday\\\\\\\\.redressadministrator\\\\\\\\.com)|(genesistoday\\\\\\\\.redressadministrator\\\\\\\\.com)|(genesistoday\\\\\\\\.redressadministrator\\\\\\\\.com)|(inbound\\\\\\\\.refundadministrator\\\\\\\\.com)|(nutrimost\\\\\\\\.refundadministrator\\\\\\\\.com)|(lightsofamerica\\\\\\\\.refundadministrator\\\\\\\\.com)\",\"extInclude\":\"\",\"extCssExclude\":\"\",\"extCssExplicit\":\"\",\"extAlert\":0,\"extAlertText\":{\"value\":\"  \\\\u003Cp\\\\u003EYou are now leaving the official Federal Trade Commission website. You are about to access:\\\\u003C\\\\/p\\\\u003E\\\\r\\\\n  \\\\u003Cp\\\\u003E\\\\u003Cstrong\\\\u003E\\\\u003Ca href=\\\\u0022[extlink:external-url]\\\\u0022\\\\u003E[extlink:external-url]\\\\u003C\\\\/a\\\\u003E\\\\u003C\\\\/strong\\\\u003E\\\\u003C\\\\/p\\\\u003E\\\\r\\\\n\\\\r\\\\n  \\\\u003Cp\\\\u003EThe Federal Trade Commission does not endorse the organizations or views represented by this site and takes no responsibility for, and exercises no control over, the accuracy, accessibility, copyright or trademark compliance or legality of the material contained on this site.  The destination site\\\\u2019s privacy policy, if any, will govern while accessing this site.\\\\r\\\\nTo learn more about how we protect your privacy on FTC.gov, read our \\\\u003Ca href=\\\\u0022\\\\/site-information\\\\/privacy-policy\\\\u0022\\\\u003EPrivacy Policy\\\\u003C\\\\/a\\\\u003E.\\\\u003C\\\\/p\\\\u003E\\\\r\\\\n  \\\\r\\\\n  \\\\u003Cdiv class=\\\\u0022extlink-extra-actions\\\\u0022\\\\u003E\\\\r\\\\n      \\\\u003Cdiv class=\\\\u0022extlink-extra-back-action\\\\u0022\\\\u003E\\\\u003Ca title=\\\\u0022Cancel\\\\u0022 href=\\\\u0022[extlink:back-url]\\\\u0022\\\\u003ECancel\\\\u003C\\\\/a\\\\u003E\\\\u003C\\\\/div\\\\u003E\\\\r\\\\n      \\\\u003Cdiv class=\\\\u0022extlink-extra-go-action\\\\u0022\\\\u003E\\\\u003Ca class=\\\\u0022ext-override\\\\u0022 title=\\\\u0022Go to link\\\\u0022 href=\\\\u0022[extlink:external-url]\\\\u0022\\\\u003EGo to link\\\\u003C\\\\/a\\\\u003E\\\\u003C\\\\/div\\\\u003E\\\\r\\\\n  \\\\u003C\\\\/div\\\\u003E\\\\r\\\\n  \\\\u003Cbr\\\\/\\\\u003E\\\\u003Cbr\\\\/\\\\u003E\\\\r\\\\n  [extlink:timer]\\\\r\\\\n  \",\"format\":\"php_code\"},\"mailtoClass\":\"mailto\",\"mailtoLabel\":\"(link sends e-mail)\"},\"extlink_extra\":{\"extlink_alert_type\":\"page\",\"extlink_alert_timer\":\"0\",\"extlink_alert_url\":\"\\\\/now-leaving\",\"extlink_cache_fix\":1,\"extlink_exclude_warning\":\"(https:\\\\/\\\\/www\\\\\\\\.facebook\\\\\\\\.com\\\\/sharer\\\\/sharer\\\\\\\\.php)|(https?:\\\\/\\\\/twitter\\\\\\\\.com\\\\/intent\\\\/tweet)|(https?:\\\\/\\\\/www\\\\\\\\.linkedin\\\\\\\\.com\\\\/share)\",\"extlink_508_fix\":0,\"extlink_508_text\":\" [external link]\",\"extlink_url_override\":0,\"extlink_url_params\":{\"external_url\":null,\"back_url\":null}},\"urlIsAjaxTrusted\":{\"https:\\\\/\\\\/search.usa.gov\\\\/search\":true}});</script>,\n",
       " <script type=\"text/javascript\">\\n    // ForeSee Embed Script v2.01\\n    ;(function (g) {\\n      var d = document, am = d.createElement(\"script\"), h = d.head || d.getElementsByTagName(\"head\")[0], fsr = \"fsReady\",\\n        aex = {\\n          \"src\": \"/foresee/gateway.min.js\",\\n          \"type\": \"text/javascript\",\\n          \"async\": \"true\",\\n          \"data-vendor\": \"fs\",\\n          \"data-mode\": \"selfhost\",\\n          \"data-environment\": \"production\",\\n          \"data-hasssl\": \"true\",\\n          \"data-client\": \"main\",\\n          \"data-codelocation\": \"/foresee/code/19.6.6/\",\\n          \"data-isselfhosted\": \"true\",\\n          \"data-product-assets\": \"/foresee/foresee_assets/product_assets/\",\\n          \"data-role\": \"gateway\"\\n        };\\n      for (var attr in aex){am.setAttribute(attr, aex[attr]);}h.appendChild(am); g[fsr] || (g[fsr] = function () {var aT = \"__\" + fsr + \"_stk__\";g[aT] = g[aT] || [];g[aT].push(arguments);});\\n    })(window);\\n</script>]"
      ]
     },
     "execution_count": 32,
     "metadata": {},
     "output_type": "execute_result"
    }
   ],
   "source": [
    "soup.head()"
   ]
  },
  {
   "cell_type": "markdown",
   "metadata": {},
   "source": [
    "We now have a parsed oject that we can apply simple and useful BS methods to.  "
   ]
  },
  {
   "cell_type": "code",
   "execution_count": 6,
   "metadata": {},
   "outputs": [
    {
     "data": {
      "text/plain": [
       "[u'https://www.ftc.gov/system/files/attachments/do-not-call-dnc-reported-calls-data/dnc_complaint_numbers_2018-10-26.csv',\n",
       " u'https://www.ftc.gov/system/files/attachments/do-not-call-dnc-reported-calls-data/dnc_complaint_numbers_2018-10-19.csv',\n",
       " u'https://www.ftc.gov/system/files/attachments/do-not-call-dnc-reported-calls-data/dnc_complaint_numbers_2018-10-12.csv',\n",
       " u'https://www.ftc.gov/system/files/attachments/do-not-call-dnc-reported-calls-data/dnc_complaint_numbers_2018-10-25.csv',\n",
       " u'https://www.ftc.gov/system/files/attachments/do-not-call-dnc-reported-calls-data/dnc_complaint_numbers_2018-10-18.csv',\n",
       " u'https://www.ftc.gov/system/files/attachments/do-not-call-dnc-reported-calls-data/dnc_complaint_numbers_2018-10-11.csv',\n",
       " u'https://www.ftc.gov/system/files/attachments/do-not-call-dnc-reported-calls-data/dnc_complaint_numbers_2018-10-24.csv',\n",
       " u'https://www.ftc.gov/system/files/attachments/do-not-call-dnc-reported-calls-data/dnc_complaint_numbers_2018-10-17.csv',\n",
       " u'https://www.ftc.gov/system/files/attachments/do-not-call-dnc-reported-calls-data/dnc_complaint_numbers_2018-10-10.csv',\n",
       " u'https://www.ftc.gov/system/files/attachments/do-not-call-dnc-reported-calls-data/dnc_complaint_numbers_2018-10-23.csv',\n",
       " u'https://www.ftc.gov/system/files/attachments/do-not-call-dnc-reported-calls-data/dnc_complaint_numbers_2018-10-16.csv',\n",
       " u'https://www.ftc.gov/system/files/attachments/do-not-call-dnc-reported-calls-data/dnc_complaint_numbers_2018-10-09.csv',\n",
       " u'https://www.ftc.gov/system/files/attachments/do-not-call-dnc-reported-calls-data/dnc_complaint_numbers_2018-10-22.csv',\n",
       " u'https://www.ftc.gov/system/files/attachments/do-not-call-dnc-reported-calls-data/dnc_complaint_numbers_2018-10-15.csv',\n",
       " u'https://www.ftc.gov/system/files/attachments/do-not-call-dnc-reported-calls-data/dnc_complaint_numbers_2018-10-08.csv',\n",
       " u'https://www.ftc.gov/system/files/attachments/do-not-call-dnc-reported-calls-data/dnc_complaint_numbers_2018-10-05.csv',\n",
       " u'https://www.ftc.gov/system/files/attachments/do-not-call-dnc-reported-calls-data/dnc_complaint_numbers_2018-09-28.csv',\n",
       " u'https://www.ftc.gov/system/files/attachments/do-not-call-dnc-reported-calls-data/dnc_complaint_numbers_2018-09-21.csv',\n",
       " u'https://www.ftc.gov/system/files/attachments/do-not-call-dnc-reported-calls-data/dnc_complaint_numbers_2018-10-04.csv',\n",
       " u'https://www.ftc.gov/system/files/attachments/do-not-call-dnc-reported-calls-data/dnc_complaint_numbers_2018-09-27.csv',\n",
       " u'https://www.ftc.gov/system/files/attachments/do-not-call-dnc-reported-calls-data/dnc_complaint_numbers_2018-09-20.csv',\n",
       " u'https://www.ftc.gov/system/files/attachments/do-not-call-dnc-reported-calls-data/dnc_complaint_numbers_2018-10-03.csv',\n",
       " u'https://www.ftc.gov/system/files/attachments/do-not-call-dnc-reported-calls-data/dnc_complaint_numbers_2018-09-26.csv',\n",
       " u'https://www.ftc.gov/system/files/attachments/do-not-call-dnc-reported-calls-data/dnc_complaint_numbers_2018-09-19.csv',\n",
       " u'https://www.ftc.gov/system/files/attachments/do-not-call-dnc-reported-calls-data/dnc_complaint_numbers_2018-10-02.csv',\n",
       " u'https://www.ftc.gov/system/files/attachments/do-not-call-dnc-reported-calls-data/dnc_complaint_numbers_2018-09-25.csv',\n",
       " u'https://www.ftc.gov/system/files/attachments/do-not-call-dnc-reported-calls-data/dnc_complaint_numbers_2018-09-18.csv',\n",
       " u'https://www.ftc.gov/system/files/attachments/do-not-call-dnc-reported-calls-data/dnc_complaint_numbers_2018-10-01.csv',\n",
       " u'https://www.ftc.gov/system/files/attachments/do-not-call-dnc-reported-calls-data/dnc_complaint_numbers_2018-09-24.csv',\n",
       " u'https://www.ftc.gov/system/files/attachments/do-not-call-dnc-reported-calls-data/dnc_complaint_numbers_2018-09-17.csv']"
      ]
     },
     "execution_count": 6,
     "metadata": {},
     "output_type": "execute_result"
    }
   ],
   "source": [
    "import pandas as pd\n",
    "\n",
    "def get_links():\n",
    "    \n",
    "    links = soup.find_all('a',href=True)#explain this\n",
    "    links = [link['href'] for link in links\n",
    "           if link[\"href\"].startswith(\"https://www.ftc.gov/system/files/attachments/do-not-call-dnc-reported-calls-data/dnc_complaint_numbers_\")]\n",
    "\n",
    "    return links\n",
    "\n",
    "get_links()\n"
   ]
  },
  {
   "cell_type": "markdown",
   "metadata": {},
   "source": [
    "https://console.aws.amazon.com/rds/home?region=us-east-1#GettingStarted:"
   ]
  },
  {
   "cell_type": "code",
   "execution_count": 8,
   "metadata": {},
   "outputs": [
    {
     "name": "stderr",
     "output_type": "stream",
     "text": [
      "Skipping line 11650: expected 8 fields, saw 15\n",
      "\n"
     ]
    }
   ],
   "source": [
    "dfs = [pd.read_csv(link,error_bad_lines=False) for link in get_links()]"
   ]
  },
  {
   "cell_type": "code",
   "execution_count": 9,
   "metadata": {},
   "outputs": [],
   "source": [
    "df = pd.concat(dfs, ignore_index=True)"
   ]
  },
  {
   "cell_type": "code",
   "execution_count": 10,
   "metadata": {},
   "outputs": [
    {
     "data": {
      "text/plain": [
       "Company_Phone_Number            695786\n",
       "Created_Date                    717774\n",
       "Violation_Date                  717773\n",
       "Consumer_City                   452521\n",
       "Consumer_State                  717183\n",
       "Consumer_Area_Code              717763\n",
       "Subject                         717773\n",
       "Recorded_Message_Or_Robocall    709752\n",
       "dtype: int64"
      ]
     },
     "execution_count": 10,
     "metadata": {},
     "output_type": "execute_result"
    }
   ],
   "source": [
    "df.count()"
   ]
  },
  {
   "cell_type": "code",
   "execution_count": 11,
   "metadata": {},
   "outputs": [],
   "source": [
    "df=df[df.Created_Date!='N']"
   ]
  },
  {
   "cell_type": "code",
   "execution_count": 12,
   "metadata": {},
   "outputs": [],
   "source": [
    "df.Created_Date=pd.to_datetime(df.Created_Date)"
   ]
  },
  {
   "cell_type": "code",
   "execution_count": 13,
   "metadata": {},
   "outputs": [
    {
     "data": {
      "text/plain": [
       "array([25, 18, 11, 24, 17, 10, 23, 16,  9, 22, 15,  8, 19, 20, 21, 12, 13,\n",
       "        5,  6,  7,  4, 27,  3, 26,  2,  1, 28, 29, 30, 14])"
      ]
     },
     "execution_count": 13,
     "metadata": {},
     "output_type": "execute_result"
    }
   ],
   "source": [
    "df.Created_Date.dt.day.unique()"
   ]
  },
  {
   "cell_type": "code",
   "execution_count": 14,
   "metadata": {},
   "outputs": [
    {
     "data": {
      "text/plain": [
       "Timestamp('2018-10-25 23:59:45')"
      ]
     },
     "execution_count": 14,
     "metadata": {},
     "output_type": "execute_result"
    }
   ],
   "source": [
    "df.Created_Date.max()"
   ]
  },
  {
   "cell_type": "code",
   "execution_count": 15,
   "metadata": {},
   "outputs": [
    {
     "data": {
      "text/plain": [
       "Timestamp('2018-09-14 00:00:07')"
      ]
     },
     "execution_count": 15,
     "metadata": {},
     "output_type": "execute_result"
    }
   ],
   "source": [
    "df.Created_Date.min()"
   ]
  },
  {
   "cell_type": "code",
   "execution_count": 16,
   "metadata": {},
   "outputs": [],
   "source": [
    "df.Company_Phone_Number=df.Company_Phone_Number.astype(str)"
   ]
  },
  {
   "cell_type": "markdown",
   "metadata": {},
   "source": [
    "Nice Clean data set ready for Tableau. "
   ]
  },
  {
   "cell_type": "code",
   "execution_count": 19,
   "metadata": {},
   "outputs": [],
   "source": [
    "df.to_csv('dnc_pull.csv')"
   ]
  },
  {
   "cell_type": "markdown",
   "metadata": {},
   "source": []
  },
  {
   "cell_type": "code",
   "execution_count": null,
   "metadata": {},
   "outputs": [],
   "source": []
  }
 ],
 "metadata": {
  "kernelspec": {
   "display_name": "Python [default]",
   "language": "python",
   "name": "python2"
  },
  "language_info": {
   "codemirror_mode": {
    "name": "ipython",
    "version": 2
   },
   "file_extension": ".py",
   "mimetype": "text/x-python",
   "name": "python",
   "nbconvert_exporter": "python",
   "pygments_lexer": "ipython2",
   "version": "2.7.15"
  }
 },
 "nbformat": 4,
 "nbformat_minor": 2
}
